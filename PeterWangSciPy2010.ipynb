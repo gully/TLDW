{
 "metadata": {
  "name": "",
  "signature": "sha256:a10c383e359ce6cacfd25214d765500e0cee6500d480b75d8fefed13ba98f230"
 },
 "nbformat": 3,
 "nbformat_minor": 0,
 "worksheets": [
  {
   "cells": [
    {
     "cell_type": "markdown",
     "metadata": {},
     "source": [
      "# Peter Wang at SciPy 2010\n",
      "## Python Evangelism 101\n",
      "\n",
      "[Link to the full YouTube video](https://www.youtube.com/watch?v=fK6E9tq-KjM)\n",
      "\n",
      "\n",
      "TL;DW:\n",
      "\n",
      "lays out some reasons for why Python is useful for scientists (among others)"
     ]
    },
    {
     "cell_type": "markdown",
     "metadata": {},
     "source": [
      "### Bullet points:\n",
      "+ There is a skill distribution among software developers.\n",
      "+ Python allows everyone to participate regardless of skill level.\n",
      "+ Scientists should like this because it means you can get stuff done.\n",
      "\n",
      "Bonus: Here is the [link to the now-unsupported OmniGraphSketch ](http://www.omnigroup.com/blog/setting-omnigraphsketcher-free), which Peter used to make phony graphs without data.\n",
      "\n",
      "Best quotes from the talk:\n",
      "\n",
      "> Fun is codeword for passionate creativity"
     ]
    },
    {
     "cell_type": "markdown",
     "metadata": {},
     "source": [
      "## One key idea of the talk:\n",
      "\n",
      "> Novices can do simple things, the really great people can build tools which then the novices can leverage\n",
      "\n",
      "Watch the 45 seconds starting around 500 seconds."
     ]
    },
    {
     "cell_type": "code",
     "collapsed": false,
     "input": [
      "from IPython.display import YouTubeVideo\n",
      "YouTubeVideo('fK6E9tq-KjM', start=500)"
     ],
     "language": "python",
     "metadata": {},
     "outputs": [
      {
       "html": [
        "\n",
        "        <iframe\n",
        "            width=\"400\"\n",
        "            height=300\"\n",
        "            src=\"https://www.youtube.com/embed/fK6E9tq-KjM?start=500\"\n",
        "            frameborder=\"0\"\n",
        "            allowfullscreen\n",
        "        ></iframe>\n",
        "        "
       ],
       "metadata": {},
       "output_type": "pyout",
       "prompt_number": 3,
       "text": [
        "<IPython.lib.display.YouTubeVideo at 0x1027b9710>"
       ]
      }
     ],
     "prompt_number": 3
    },
    {
     "cell_type": "markdown",
     "metadata": {},
     "source": [
      "## How the talk relates to science\n",
      "\n",
      "> Scientists program to get things done\n",
      "\n",
      "He describes why he is addressing SciPy community specifically."
     ]
    },
    {
     "cell_type": "code",
     "collapsed": false,
     "input": [
      "YouTubeVideo('fK6E9tq-KjM', start=744)"
     ],
     "language": "python",
     "metadata": {},
     "outputs": [
      {
       "html": [
        "\n",
        "        <iframe\n",
        "            width=\"400\"\n",
        "            height=300\"\n",
        "            src=\"https://www.youtube.com/embed/fK6E9tq-KjM?start=744\"\n",
        "            frameborder=\"0\"\n",
        "            allowfullscreen\n",
        "        ></iframe>\n",
        "        "
       ],
       "metadata": {},
       "output_type": "pyout",
       "prompt_number": 8,
       "text": [
        "<IPython.lib.display.YouTubeVideo at 0x1027c2910>"
       ]
      }
     ],
     "prompt_number": 8
    },
    {
     "cell_type": "markdown",
     "metadata": {},
     "source": [
      "That's all for now.\n",
      "\n",
      "-`m. gully-santiago`, 19 Oct. 2014"
     ]
    },
    {
     "cell_type": "code",
     "collapsed": false,
     "input": [],
     "language": "python",
     "metadata": {},
     "outputs": []
    }
   ],
   "metadata": {}
  }
 ]
}