{
 "metadata": {
  "name": "",
  "signature": "sha256:66733e0e5b427cf9af83b61b5e48d9453e533756e10eef7ddb6d8746a2551f68"
 },
 "nbformat": 3,
 "nbformat_minor": 0,
 "worksheets": [
  {
   "cells": [
    {
     "cell_type": "code",
     "collapsed": false,
     "input": [
      "%%html\n",
      "<script type=\"text/javascript\">\n",
      "     show=true;\n",
      "     function toggle(){\n",
      "         if (show){$('div.input').hide();}else{$('div.input').show();}\n",
      "            show = !show}\n",
      " </script>\n",
      " <h2><a href=\"javascript:toggle()\" target=\"_self\">Click to toggle code input</a></h2>"
     ],
     "language": "python",
     "metadata": {},
     "outputs": [
      {
       "html": [
        "<script type=\"text/javascript\">\n",
        "     show=true;\n",
        "     function toggle(){\n",
        "         if (show){$('div.input').hide();}else{$('div.input').show();}\n",
        "            show = !show}\n",
        " </script>\n",
        " <h2><a href=\"javascript:toggle()\" target=\"_self\">Click to toggle code input</a></h2>"
       ],
       "metadata": {},
       "output_type": "display_data",
       "text": [
        "<IPython.core.display.HTML at 0x1027bd050>"
       ]
      }
     ],
     "prompt_number": 2
    },
    {
     "cell_type": "markdown",
     "metadata": {},
     "source": [
      "# David Hogg at NYU Statistics Seminar October 2014\n",
      "## Lecture 9: A Quick Tour of Machine-Learning and Statistical Tools\n",
      "\n",
      "[Link to the full YouTube video](http://www.youtube.com/watch?v=aA3qdegi8Vw)\n",
      "\n",
      "\n",
      "TL;DW:\n",
      "\n",
      "Machine learning in astronomy is different than typical applications of machine learning."
     ]
    },
    {
     "cell_type": "code",
     "collapsed": false,
     "input": [
      "from IPython.display import YouTubeVideo\n",
      "from datetime import timedelta"
     ],
     "language": "python",
     "metadata": {},
     "outputs": [],
     "prompt_number": 3
    },
    {
     "cell_type": "markdown",
     "metadata": {},
     "source": [
      "## Supervised Classification"
     ]
    },
    {
     "cell_type": "code",
     "collapsed": false,
     "input": [
      "start = int(timedelta(hours=0, minutes=1, seconds=26).total_seconds())\n",
      "end = int(timedelta(hours=0, minutes=12, seconds=2).total_seconds())\n",
      "YouTubeVideo('aA3qdegi8Vw', start=start, end=end)"
     ],
     "language": "python",
     "metadata": {},
     "outputs": [
      {
       "html": [
        "\n",
        "        <iframe\n",
        "            width=\"400\"\n",
        "            height=300\"\n",
        "            src=\"https://www.youtube.com/embed/aA3qdegi8Vw?start=86&end=722\"\n",
        "            frameborder=\"0\"\n",
        "            allowfullscreen\n",
        "        ></iframe>\n",
        "        "
       ],
       "metadata": {},
       "output_type": "pyout",
       "prompt_number": 6,
       "text": [
        "<IPython.lib.display.YouTubeVideo at 0x10350c410>"
       ]
      }
     ],
     "prompt_number": 6
    },
    {
     "cell_type": "code",
     "collapsed": false,
     "input": [],
     "language": "python",
     "metadata": {},
     "outputs": []
    }
   ],
   "metadata": {}
  }
 ]
}