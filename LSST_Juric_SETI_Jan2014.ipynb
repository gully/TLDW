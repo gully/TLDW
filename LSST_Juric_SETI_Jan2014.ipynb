{
 "metadata": {
  "name": "",
  "signature": "sha256:829d7ed6ce17586688e76d0babb17129bb9b584afe4cae399692f402629a7f25"
 },
 "nbformat": 3,
 "nbformat_minor": 0,
 "worksheets": [
  {
   "cells": [
    {
     "cell_type": "code",
     "collapsed": false,
     "input": [
      "%%html\n",
      "<script type=\"text/javascript\">\n",
      "     show=true;\n",
      "     function toggle(){\n",
      "         if (show){$('div.input').hide();}else{$('div.input').show();}\n",
      "            show = !show}\n",
      " </script>\n",
      " <h2><a href=\"javascript:toggle()\" target=\"_self\">Click to toggle code input</a></h2>"
     ],
     "language": "python",
     "metadata": {},
     "outputs": [
      {
       "html": [
        "<script type=\"text/javascript\">\n",
        "     show=true;\n",
        "     function toggle(){\n",
        "         if (show){$('div.input').hide();}else{$('div.input').show();}\n",
        "            show = !show}\n",
        " </script>\n",
        " <h2><a href=\"javascript:toggle()\" target=\"_self\">Click to toggle code input</a></h2>"
       ],
       "metadata": {},
       "output_type": "display_data",
       "text": [
        "<IPython.core.display.HTML at 0x1027c1190>"
       ]
      }
     ],
     "prompt_number": 1
    },
    {
     "cell_type": "markdown",
     "metadata": {},
     "source": [
      "# Mario Juric at SETI Institute January 14, 2014\n",
      "## LSST, Entering the Era of Petascale Optical Astronomy\n",
      "\n",
      "[Link to the full YouTube video](https://www.youtube.com/watch?v=n4OysNeyXpc)\n",
      "\n",
      "\n",
      "TL;DW:\n",
      "\n",
      "What is LSST going to do and what are some of its challenges."
     ]
    },
    {
     "cell_type": "code",
     "collapsed": false,
     "input": [
      "from IPython.display import YouTubeVideo\n",
      "from datetime import timedelta"
     ],
     "language": "python",
     "metadata": {},
     "outputs": [],
     "prompt_number": 2
    },
    {
     "cell_type": "markdown",
     "metadata": {},
     "source": [
      "Overview of LSST-\n",
      "\n",
      "+ The ultimate deliverable of LSST is the fully reduced data.\n",
      "+ Robotic telescope\n",
      "+ Publicly funded project with early contributions from private donors\n",
      "+ NSF and DOE mostly-- so totally public, no proprietary period\n",
      "\n",
      "\n",
      "\n",
      "> \"[LSST] is practically a robot that sits on a mountain and does its thing.\""
     ]
    },
    {
     "cell_type": "code",
     "collapsed": false,
     "input": [
      "YouTubeVideo('n4OysNeyXpc', start=225, end=243)"
     ],
     "language": "python",
     "metadata": {},
     "outputs": [
      {
       "html": [
        "\n",
        "        <iframe\n",
        "            width=\"400\"\n",
        "            height=300\"\n",
        "            src=\"https://www.youtube.com/embed/n4OysNeyXpc?start=225&end=243\"\n",
        "            frameborder=\"0\"\n",
        "            allowfullscreen\n",
        "        ></iframe>\n",
        "        "
       ],
       "metadata": {},
       "output_type": "pyout",
       "prompt_number": 3,
       "text": [
        "<IPython.lib.display.YouTubeVideo at 0x10279b6d0>"
       ]
      }
     ],
     "prompt_number": 3
    },
    {
     "cell_type": "markdown",
     "metadata": {},
     "source": [
      "### LSST science goals\n",
      "\n",
      "1. Time domain science- repeated observations of the sky (~800 repeated visits)\n",
      "    + Supernovae\n",
      "    + Compact object mergers\n",
      "2. Solar system science\n",
      "    + Census of near earth asteroids\n",
      "    + Potentially hazardous\n",
      "3. Mapping the Milky Way\n",
      "    + Galactic structure\n",
      "    + Tidal streams\n",
      "4. Dark Energy and Dark Matter (10:18)\n",
      "    + Major driver of LSST\n",
      "    + Dark matter is cosmological constant or something else?\n",
      "    "
     ]
    },
    {
     "cell_type": "code",
     "collapsed": false,
     "input": [
      "start = int(timedelta(hours=0, minutes=7, seconds=18).total_seconds())\n",
      "end = int(timedelta(hours=0, minutes=12, seconds=2).total_seconds())\n",
      "YouTubeVideo('n4OysNeyXpc', start=438, end=722)"
     ],
     "language": "python",
     "metadata": {},
     "outputs": [
      {
       "html": [
        "\n",
        "        <iframe\n",
        "            width=\"400\"\n",
        "            height=300\"\n",
        "            src=\"https://www.youtube.com/embed/n4OysNeyXpc?start=438&end=722\"\n",
        "            frameborder=\"0\"\n",
        "            allowfullscreen\n",
        "        ></iframe>\n",
        "        "
       ],
       "metadata": {},
       "output_type": "pyout",
       "prompt_number": 4,
       "text": [
        "<IPython.lib.display.YouTubeVideo at 0x103534350>"
       ]
      }
     ],
     "prompt_number": 4
    },
    {
     "cell_type": "markdown",
     "metadata": {},
     "source": [
      "### Decadal survey ranked LSST as the top ground based facility for the next decade."
     ]
    },
    {
     "cell_type": "code",
     "collapsed": false,
     "input": [
      "start = int(timedelta(hours=0, minutes=12, seconds=2).total_seconds())\n",
      "end = int(timedelta(hours=0, minutes=12, seconds=44).total_seconds())\n",
      "YouTubeVideo('n4OysNeyXpc', start=start, end=end)"
     ],
     "language": "python",
     "metadata": {},
     "outputs": [
      {
       "html": [
        "\n",
        "        <iframe\n",
        "            width=\"400\"\n",
        "            height=300\"\n",
        "            src=\"https://www.youtube.com/embed/n4OysNeyXpc?start=722&end=764\"\n",
        "            frameborder=\"0\"\n",
        "            allowfullscreen\n",
        "        ></iframe>\n",
        "        "
       ],
       "metadata": {},
       "output_type": "pyout",
       "prompt_number": 5,
       "text": [
        "<IPython.lib.display.YouTubeVideo at 0x103534390>"
       ]
      }
     ],
     "prompt_number": 5
    },
    {
     "cell_type": "markdown",
     "metadata": {},
     "source": [
      "### Who/where is LSST? \n",
      "\n",
      "+ Between about 50 and 100 people\n",
      "+ Science case is effectively being built pro-bono by community\n",
      "+ Location is Cerro Pachon in Chile, not far from La Serena\n",
      "\n",
      "### LSST by numbers\n",
      "+ 10 years\n",
      "+ 20,000 sq degrees\n",
      "+ ~800 visits per source\n",
      "+ 10 billion objects\n",
      "+ Limiting magnitude of $R = 27$\n",
      "\n",
      "LSST will not reobserve the Galactic plane."
     ]
    },
    {
     "cell_type": "code",
     "collapsed": false,
     "input": [
      "start = int(timedelta(hours=0, minutes=17, seconds=5).total_seconds())\n",
      "end = int(timedelta(hours=0, minutes=18, seconds=0).total_seconds())\n",
      "YouTubeVideo('n4OysNeyXpc', start=start, end=end)"
     ],
     "language": "python",
     "metadata": {},
     "outputs": [
      {
       "html": [
        "\n",
        "        <iframe\n",
        "            width=\"400\"\n",
        "            height=300\"\n",
        "            src=\"https://www.youtube.com/embed/n4OysNeyXpc?start=1025&end=1080\"\n",
        "            frameborder=\"0\"\n",
        "            allowfullscreen\n",
        "        ></iframe>\n",
        "        "
       ],
       "metadata": {},
       "output_type": "pyout",
       "prompt_number": 6,
       "text": [
        "<IPython.lib.display.YouTubeVideo at 0x103534150>"
       ]
      }
     ],
     "prompt_number": 6
    },
    {
     "cell_type": "markdown",
     "metadata": {},
     "source": [
      "### Camera will be the largest astronomical camera in existence.\n",
      "\n",
      "+ 3.2 Gigapixel\n",
      "+ 0.2 arcseconds per pixel\n",
      "+ 9.6 square degree FOV\n",
      "+ 6 filters\n",
      "+ 2 second readout time (!)\n",
      "+ 15 second exposure time\n",
      "+ 189 CCD chips\n",
      "+ 4k x 4k pixels\n",
      "+ 3 x 3 CCD raft (21 of these)\n",
      "+ 16 individual readouts\n",
      "+ 3.5 deg FOV\n",
      "+ corner area wavefront sensing and guiding\n",
      "+ 10 $\\mu$m pixels\n"
     ]
    },
    {
     "cell_type": "code",
     "collapsed": false,
     "input": [
      "start = int(timedelta(hours=0, minutes=19, seconds=37).total_seconds())\n",
      "end = int(timedelta(hours=0, minutes=23, seconds=30).total_seconds())\n",
      "YouTubeVideo('n4OysNeyXpc', start=start, end=end)"
     ],
     "language": "python",
     "metadata": {},
     "outputs": [
      {
       "html": [
        "\n",
        "        <iframe\n",
        "            width=\"400\"\n",
        "            height=300\"\n",
        "            src=\"https://www.youtube.com/embed/n4OysNeyXpc?start=1177&end=1410\"\n",
        "            frameborder=\"0\"\n",
        "            allowfullscreen\n",
        "        ></iframe>\n",
        "        "
       ],
       "metadata": {},
       "output_type": "pyout",
       "prompt_number": 7,
       "text": [
        "<IPython.lib.display.YouTubeVideo at 0x103534310>"
       ]
      }
     ],
     "prompt_number": 7
    },
    {
     "cell_type": "markdown",
     "metadata": {},
     "source": [
      "### Data management system\n",
      "\n",
      "+ Catalog generation\n",
      "+ How do you make a petascale database to both astronomers and the public?\n",
      "+ All the data processing is going on at the NCSA in Illinois\n",
      "+ Data links for real-time data processing.  Redundant links.\n",
      "+ Supercomputers for data crunching."
     ]
    },
    {
     "cell_type": "code",
     "collapsed": false,
     "input": [
      "start = int(timedelta(hours=0, minutes=23, seconds=55).total_seconds())\n",
      "end = int(timedelta(hours=0, minutes=27, seconds=21).total_seconds())\n",
      "YouTubeVideo('n4OysNeyXpc', start=start, end=end)"
     ],
     "language": "python",
     "metadata": {},
     "outputs": [
      {
       "html": [
        "\n",
        "        <iframe\n",
        "            width=\"400\"\n",
        "            height=300\"\n",
        "            src=\"https://www.youtube.com/embed/n4OysNeyXpc?start=1435&end=1641\"\n",
        "            frameborder=\"0\"\n",
        "            allowfullscreen\n",
        "        ></iframe>\n",
        "        "
       ],
       "metadata": {},
       "output_type": "pyout",
       "prompt_number": 8,
       "text": [
        "<IPython.lib.display.YouTubeVideo at 0x103534190>"
       ]
      }
     ],
     "prompt_number": 8
    },
    {
     "cell_type": "markdown",
     "metadata": {},
     "source": [
      "### Catalogs\n",
      "\n",
      "+ Level 1: time sensitive\n",
      "    + Time domain alerts within 60 seconds.\n",
      "    + What to do with ~10 million time-domain events per night?\n",
      "    + ~6 million bodies in the Solar System. (about 85% of asteroids bigger than 130 meters)\n",
      "+ Level 2: stable catalog\n",
      "    + Deep coadds of images\n",
      "    + Annually released catalog\n",
      "    + ~37 billion objects (20B galaxies, 17B stars)\n",
      "+ Level 3: Access to the data\n",
      "    + Ship users hard drives?\n",
      "    + Bring the questions to the data (query the data)\n",
      "    + Do the computing on the cloud"
     ]
    },
    {
     "cell_type": "code",
     "collapsed": false,
     "input": [
      "start = int(timedelta(hours=0, minutes=27, seconds=21).total_seconds())\n",
      "end = int(timedelta(hours=0, minutes=36, seconds=54).total_seconds())\n",
      "YouTubeVideo('n4OysNeyXpc', start=start, end=end)"
     ],
     "language": "python",
     "metadata": {},
     "outputs": [
      {
       "html": [
        "\n",
        "        <iframe\n",
        "            width=\"400\"\n",
        "            height=300\"\n",
        "            src=\"https://www.youtube.com/embed/n4OysNeyXpc?start=1641&end=2214\"\n",
        "            frameborder=\"0\"\n",
        "            allowfullscreen\n",
        "        ></iframe>\n",
        "        "
       ],
       "metadata": {},
       "output_type": "pyout",
       "prompt_number": 9,
       "text": [
        "<IPython.lib.display.YouTubeVideo at 0x103534290>"
       ]
      }
     ],
     "prompt_number": 9
    },
    {
     "cell_type": "markdown",
     "metadata": {},
     "source": [
      "### Software\n",
      "\n",
      "+ Freely available and open source (now!)\n",
      "+ Works for Mac OSX 10.7+\n",
      "+ Still in development\n",
      "\n",
      "### Astronomers are not used to working with machines like this."
     ]
    },
    {
     "cell_type": "code",
     "collapsed": false,
     "input": [
      "# Software\n",
      "start = int(timedelta(hours=0, minutes=40, seconds=0).total_seconds())\n",
      "end = int(timedelta(hours=0, minutes=41, seconds=12).total_seconds())\n",
      "#YouTubeVideo('n4OysNeyXpc', start=start, end=end)\n",
      "\n",
      "# Effectively using large survey data\n",
      "start = int(timedelta(hours=0, minutes=40, seconds=0).total_seconds())\n",
      "end = int(timedelta(hours=0, minutes=46, seconds=30).total_seconds())\n",
      "#YouTubeVideo('n4OysNeyXpc', start=start, end=end)\n",
      "\n",
      "# Serendipitous science\n",
      "start = int(timedelta(hours=0, minutes=46, seconds=30).total_seconds())\n",
      "end = int(timedelta(hours=0, minutes=47, seconds=14).total_seconds())\n",
      "#YouTubeVideo('n4OysNeyXpc', start=start, end=end)"
     ],
     "language": "python",
     "metadata": {},
     "outputs": [],
     "prompt_number": 10
    },
    {
     "cell_type": "markdown",
     "metadata": {},
     "source": [
      "### Thriving in the Era of Large Surveys\n",
      "\n",
      "+ Data driven astronomers\n",
      "+ What theories can I test with the data I have?\n",
      "+ Teaching the computer to find discoveries for us\n",
      "+ Code, statistics, interfacing with large databases\n",
      "+ Machine learning, artificial intelligence"
     ]
    },
    {
     "cell_type": "code",
     "collapsed": false,
     "input": [
      "# Thriving in the Era of Large Surveys\n",
      "start = int(timedelta(hours=0, minutes=47, seconds=14).total_seconds())\n",
      "end = int(timedelta(hours=0, minutes=49, seconds=50).total_seconds())\n",
      "YouTubeVideo('n4OysNeyXpc', start=start, end=end)"
     ],
     "language": "python",
     "metadata": {},
     "outputs": [
      {
       "html": [
        "\n",
        "        <iframe\n",
        "            width=\"400\"\n",
        "            height=300\"\n",
        "            src=\"https://www.youtube.com/embed/n4OysNeyXpc?start=2834&end=2990\"\n",
        "            frameborder=\"0\"\n",
        "            allowfullscreen\n",
        "        ></iframe>\n",
        "        "
       ],
       "metadata": {},
       "output_type": "pyout",
       "prompt_number": 11,
       "text": [
        "<IPython.lib.display.YouTubeVideo at 0x103534510>"
       ]
      }
     ],
     "prompt_number": 11
    },
    {
     "cell_type": "markdown",
     "metadata": {},
     "source": [
      "### Software engineering will become as essential as mathematics\n",
      "\n",
      "+ Data driven astronomer\n",
      "+ Software is not taken as seriously in astronomy\n",
      "+ Software to be taught not learned through osmosis\n",
      "+ SQL\n",
      "+ More computer science is needed"
     ]
    },
    {
     "cell_type": "code",
     "collapsed": false,
     "input": [
      "start = int(timedelta(hours=0, minutes=49, seconds=48).total_seconds())\n",
      "end = int(timedelta(hours=0, minutes=51, seconds=50).total_seconds())\n",
      "YouTubeVideo('n4OysNeyXpc', start=start, end=end)"
     ],
     "language": "python",
     "metadata": {},
     "outputs": [
      {
       "html": [
        "\n",
        "        <iframe\n",
        "            width=\"400\"\n",
        "            height=300\"\n",
        "            src=\"https://www.youtube.com/embed/n4OysNeyXpc?start=2988&end=3110\"\n",
        "            frameborder=\"0\"\n",
        "            allowfullscreen\n",
        "        ></iframe>\n",
        "        "
       ],
       "metadata": {},
       "output_type": "pyout",
       "prompt_number": 12,
       "text": [
        "<IPython.lib.display.YouTubeVideo at 0x103534590>"
       ]
      }
     ],
     "prompt_number": 12
    },
    {
     "cell_type": "markdown",
     "metadata": {},
     "source": [
      "# End of talk.  Question time.\n",
      "\n",
      "### Calibration\n",
      "\n",
      "+ Self calibration\n",
      "+ Reobserve the sky with different parts of the detector.\n",
      "+ Calibrations of SDSS were not used at all.  \n",
      "+ There is more data in the survey itself"
     ]
    },
    {
     "cell_type": "code",
     "collapsed": false,
     "input": [
      "start = int(timedelta(hours=0, minutes=53, seconds=50).total_seconds())\n",
      "end = int(timedelta(hours=0, minutes=54, seconds=50).total_seconds())\n",
      "YouTubeVideo('n4OysNeyXpc', start=start, end=end)"
     ],
     "language": "python",
     "metadata": {},
     "outputs": [
      {
       "html": [
        "\n",
        "        <iframe\n",
        "            width=\"400\"\n",
        "            height=300\"\n",
        "            src=\"https://www.youtube.com/embed/n4OysNeyXpc?start=3230&end=3290\"\n",
        "            frameborder=\"0\"\n",
        "            allowfullscreen\n",
        "        ></iframe>\n",
        "        "
       ],
       "metadata": {},
       "output_type": "pyout",
       "prompt_number": 13,
       "text": [
        "<IPython.lib.display.YouTubeVideo at 0x103534250>"
       ]
      }
     ],
     "prompt_number": 13
    },
    {
     "cell_type": "markdown",
     "metadata": {},
     "source": [
      "### What and how to teach our students?\n",
      "\n",
      "+ Depends on individual institutions.\n",
      "+ Large surveys know this.\n",
      "+ Share code\n",
      "+ What is needed to make LSST a success?"
     ]
    },
    {
     "cell_type": "code",
     "collapsed": false,
     "input": [
      "start = int(timedelta(hours=0, minutes=59, seconds=33).total_seconds())\n",
      "end = int(timedelta(hours=1, minutes=1, seconds=37).total_seconds())\n",
      "YouTubeVideo('n4OysNeyXpc', start=start, end=end)"
     ],
     "language": "python",
     "metadata": {},
     "outputs": [
      {
       "html": [
        "\n",
        "        <iframe\n",
        "            width=\"400\"\n",
        "            height=300\"\n",
        "            src=\"https://www.youtube.com/embed/n4OysNeyXpc?start=3573&end=3697\"\n",
        "            frameborder=\"0\"\n",
        "            allowfullscreen\n",
        "        ></iframe>\n",
        "        "
       ],
       "metadata": {},
       "output_type": "pyout",
       "prompt_number": 14,
       "text": [
        "<IPython.lib.display.YouTubeVideo at 0x103534550>"
       ]
      }
     ],
     "prompt_number": 14
    }
   ],
   "metadata": {}
  }
 ]
}